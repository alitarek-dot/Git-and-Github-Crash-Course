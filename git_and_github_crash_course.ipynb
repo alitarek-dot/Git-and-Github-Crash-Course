{
 "cells": [
  {
   "cell_type": "markdown",
   "metadata": {},
   "source": [
    "# What is git ?\n",
    "Free and open source version control system.\n",
    "\n",
    "Git is a distributed version control system that allows developers to track changes made to code over time. It\n",
    "\n",
    "# What is version control ?\n",
    "\n",
    "The management of changes to docs, computer programs, large websites, and other collections of information."
   ]
  },
  {
   "cell_type": "markdown",
   "metadata": {},
   "source": [
    "Directory -> Folder\n",
    "\n",
    "Terminal or CMD Line -> Interface for text commands\n",
    "\n",
    "CLI -> command line interface\n",
    "\n",
    "cd -> change directory\n",
    "\n",
    "Code editor -> IDE\n",
    "\n",
    "Repository -> Project or the folder where the project is kept\n",
    "\n",
    "Github -> website where u host all git repositories."
   ]
  },
  {
   "cell_type": "markdown",
   "metadata": {},
   "source": [
    "# Git Commands\n",
    "\n",
    "clone -> Bring a repo from github into ur local machine.\n",
    "\n",
    "add -> Add files to the staging area.\n",
    "\n",
    "commit -> Save files in Git\n",
    "\n",
    "push -> Upload Git commits to a remote repo like Github\n",
    "\n",
    "pull -> Donwload changes from remote repo to your local machine, the opposite of push."
   ]
  },
  {
   "cell_type": "markdown",
   "metadata": {},
   "source": [
    "# Git commands:"
   ]
  },
  {
   "cell_type": "markdown",
   "metadata": {},
   "source": [
    "git --version -> to check the current git version on your machine.\n",
    "\n",
    "git clone https://github.com/alitarek-dot/Git-and-Github-Crash-Course.git -> will clone the remote repo into my machine.\n",
    "\n",
    "git status -> shows all files updated or created or deleted that haven't been saved in a commit yet.\n",
    "\n",
    "Untracked means new file, use git add to save the file to git.\n",
    "\n",
    "git add . -> means git will track all files listed in git status like new and modified files.\n",
    "\n",
    "git add \"filename.extension\" -> to save a certain file to git.\n",
    "\n"
   ]
  },
  {
   "cell_type": "markdown",
   "metadata": {},
   "source": []
  }
 ],
 "metadata": {
  "language_info": {
   "name": "python"
  }
 },
 "nbformat": 4,
 "nbformat_minor": 2
}
